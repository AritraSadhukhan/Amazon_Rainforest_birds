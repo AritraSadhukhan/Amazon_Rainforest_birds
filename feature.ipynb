{
 "cells": [
  {
   "cell_type": "code",
   "execution_count": 2,
   "metadata": {},
   "outputs": [
    {
     "name": "stderr",
     "output_type": "stream",
     "text": [
      "C:\\Users\\aritr\\AppData\\Roaming\\Python\\Python311\\site-packages\\tqdm\\auto.py:21: TqdmWarning: IProgress not found. Please update jupyter and ipywidgets. See https://ipywidgets.readthedocs.io/en/stable/user_install.html\n",
      "  from .autonotebook import tqdm as notebook_tqdm\n"
     ]
    }
   ],
   "source": [
    "import os\n",
    "import librosa\n",
    "import pandas as pd\n",
    "import numpy as np\n",
    "import noisereduce as nr\n",
    "from datetime import datetime"
   ]
  },
  {
   "cell_type": "code",
   "execution_count": null,
   "metadata": {},
   "outputs": [],
   "source": [
    "# Define a function to extract features from a file\n",
    "def extract_features(file_path):\n",
    "    # Load audio file with librosa, which uses ffmpeg to handle MP3s\n",
    "    y, sr = librosa.load(file_path, sr=None)\n",
    "    # Apply noise reduction\n",
    "    reduced_noise = nr.reduce_noise(y=y, sr=sr)"
   ]
  },
  {
   "cell_type": "code",
   "execution_count": null,
   "metadata": {},
   "outputs": [],
   "source": [
    " # Extract features\n",
    "    mfccs = librosa.feature.mfcc(y=reduced_noise, sr=sr, n_mfcc=13)\n",
    "    spectral_centroids = librosa.feature.spectral_centroid(y=reduced_noise, sr=sr)[0]\n",
    "    zero_crossing_rate = librosa.feature.zero_crossing_rate(reduced_noise)[0]\n",
    "    chroma_stft = librosa.feature.chroma_stft(y=reduced_noise, sr=sr)"
   ]
  },
  {
   "cell_type": "code",
   "execution_count": null,
   "metadata": {},
   "outputs": [],
   "source": [
    " # Aggregate the mean of each feature\n",
    "    features = {\n",
    "        'spectral_centroid_mean': np.mean(spectral_centroids),\n",
    "        'zero_crossing_rate_mean': np.mean(zero_crossing_rate),\n",
    "        'chroma_stft_mean': np.mean(chroma_stft, axis=1).tolist()  # Mean of chroma STFT\n",
    "    }\n"
   ]
  },
  {
   "cell_type": "code",
   "execution_count": null,
   "metadata": {},
   "outputs": [],
   "source": [
    "# Add MFCCs mean as separate columns\n",
    "mfccs_mean = np.mean(mfccs.T, axis=0)\n",
    "for i, mfcc in enumerate(mfccs_mean):\n",
    "        features[f'mfccs_mean_{i+1}'] = mfcc\n",
    "    return features\n"
   ]
  },
  {
   "cell_type": "code",
   "execution_count": null,
   "metadata": {},
   "outputs": [],
   "source": [
    "# Function to process each subfolder and compile features\n",
    "def process_folders(base_path):\n",
    "    features_list = []\n",
    "    for root, dirs, files in os.walk(base_path):\n",
    "        for file in files:\n",
    "            if file.endswith('.mp3'):  # Ensure to process MP3 files\n",
    "                file_path = os.path.join(root, file)\n",
    "                features = extract_features(file_path)\n",
    "                features['class'] = os.path.basename(root)  # Class label from folder name\n",
    "                features_list.append(features)\n",
    "\n",
    "    return features_list"
   ]
  },
  {
   "cell_type": "code",
   "execution_count": null,
   "metadata": {},
   "outputs": [],
   "source": [
    "# Main function to orchestrate the feature extraction\n",
    "def main():\n",
    "    base_path = 'F:\\\\NewAgePython\\\\Amazon Rainforst Birds'  # Update this to your path\n",
    "    data = process_folders(base_path)\n",
    "    df = pd.DataFrame(data)\n",
    "    timestamp = datetime.now().strftime('%Y%m%d%H%M%S')\n",
    "    csv_file_name = f'birdsfeature_{timestamp}.csv'\n",
    "    df.to_csv(csv_file_name, index=False)\n",
    "    print(f'Data saved to {csv_file_name}')\n",
    "\n",
    "if __name__ == '__main__':\n",
    "    main()"
   ]
  }
 ],
 "metadata": {
  "kernelspec": {
   "display_name": "Python 3",
   "language": "python",
   "name": "python3"
  },
  "language_info": {
   "codemirror_mode": {
    "name": "ipython",
    "version": 3
   },
   "file_extension": ".py",
   "mimetype": "text/x-python",
   "name": "python",
   "nbconvert_exporter": "python",
   "pygments_lexer": "ipython3",
   "version": "3.11.1"
  }
 },
 "nbformat": 4,
 "nbformat_minor": 2
}
